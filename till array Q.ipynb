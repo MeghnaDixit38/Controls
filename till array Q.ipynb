{
 "cells": [
  {
   "cell_type": "markdown",
   "metadata": {},
   "source": [
    "I followed the article and implemented likewise.\n",
    "First computing Q_i's, then putting them together.\n",
    "I have provided a time array, which is used accordingly in computing Q_i's"
   ]
  },
  {
   "cell_type": "code",
   "execution_count": 1,
   "metadata": {},
   "outputs": [],
   "source": [
    "from math import factorial as f\n",
    "import numpy as np\n",
    "from scipy.linalg import block_diag\n"
   ]
  },
  {
   "cell_type": "code",
   "execution_count": 2,
   "metadata": {},
   "outputs": [],
   "source": [
    "def form_Q(l): #l is index in time array\n",
    "    Q_i=np.zeros(shape=(n,n))  #initlaizing\n",
    "    for i in range(n):       \n",
    "        for j in range(n):\n",
    "            if (((i>3) and (j<=3))) or (((j>3) and (i<=3))):      #some of inital entries are zero as per article\n",
    "                Q_i[i][j]=0\n",
    "            elif (i<=3) and (j<=3):\n",
    "                Q_i[i][j]=0\n",
    "            else:\n",
    "                Q_i[i][j]= (f(i)*f(j)*(pow(t[l],i+j-7)-pow(t[l-1],i+j-7)))/(f(i-4)*f(j-4)*(i+j-7)) #formula from article\n",
    "    return Q_i    \n",
    "    \n",
    "    #notice first integration is from t[0] to t[1], that is how i have used l"
   ]
  },
  {
   "cell_type": "code",
   "execution_count": 3,
   "metadata": {},
   "outputs": [],
   "source": [
    "n=8 #considering degree is 7, there will be 1+(degree) coeffs so i used 8 \n",
    "m=5 #considering there are m segments\n",
    "\n",
    "t=[0,0.2,0.4,0.6,0.8,1]   #notice there will be m+1 elements in time and position input arrays\n",
    "Q_1=form_Q(1)   \n",
    "Q_2=form_Q(2)\n",
    "Q_3=form_Q(3)      # for now I have done seperate matrices cuz faced error trying to make array with each element as a matrix\n",
    "Q_4=form_Q(4)\n",
    "Q_5=form_Q(5)\n",
    "    "
   ]
  },
  {
   "cell_type": "code",
   "execution_count": 7,
   "metadata": {},
   "outputs": [
    {
     "name": "stdout",
     "output_type": "stream",
     "text": [
      "[[    0.          0.          0.          0.          0.          0.\n",
      "      0.          0.     ]\n",
      " [    0.          0.          0.          0.          0.          0.\n",
      "      0.          0.     ]\n",
      " [    0.          0.          0.          0.          0.          0.\n",
      "      0.          0.     ]\n",
      " [    0.          0.          0.          0.          0.          0.\n",
      "      0.          0.     ]\n",
      " [    0.          0.          0.          0.        115.2       518.4\n",
      "   1405.44     2975.616  ]\n",
      " [    0.          0.          0.          0.        518.4      2342.4\n",
      "   6376.32    13553.9712 ]\n",
      " [    0.          0.          0.          0.       1405.44     6376.32\n",
      "  17426.5344  37187.9424 ]\n",
      " [    0.          0.          0.          0.       2975.616   13553.9712\n",
      "  37187.9424  79660.70784]]\n"
     ]
    }
   ],
   "source": [
    "print(Q_5)   #eg"
   ]
  },
  {
   "cell_type": "code",
   "execution_count": 11,
   "metadata": {},
   "outputs": [
    {
     "data": {
      "text/plain": [
       "array([[    0.     ,     0.     ,     0.     , ...,     0.     ,\n",
       "            0.     ,     0.     ],\n",
       "       [    0.     ,     0.     ,     0.     , ...,     0.     ,\n",
       "            0.     ,     0.     ],\n",
       "       [    0.     ,     0.     ,     0.     , ...,     0.     ,\n",
       "            0.     ,     0.     ],\n",
       "       ...,\n",
       "       [    0.     ,     0.     ,     0.     , ...,  2342.4    ,\n",
       "         6376.32   , 13553.9712 ],\n",
       "       [    0.     ,     0.     ,     0.     , ...,  6376.32   ,\n",
       "        17426.5344 , 37187.9424 ],\n",
       "       [    0.     ,     0.     ,     0.     , ..., 13553.9712 ,\n",
       "        37187.9424 , 79660.70784]])"
      ]
     },
     "execution_count": 11,
     "metadata": {},
     "output_type": "execute_result"
    }
   ],
   "source": [
    "Q=block_diag(Q_1,Q_2,Q_3,Q_4,Q_5) #converts to block diagonal form in given order\n",
    "Q"
   ]
  },
  {
   "cell_type": "code",
   "execution_count": 10,
   "metadata": {},
   "outputs": [
    {
     "data": {
      "text/plain": [
       "(40, 40)"
      ]
     },
     "execution_count": 10,
     "metadata": {},
     "output_type": "execute_result"
    }
   ],
   "source": [
    "Q.shape   # it should be n*m"
   ]
  }
 ],
 "metadata": {
  "kernelspec": {
   "display_name": "Python 3",
   "language": "python",
   "name": "python3"
  },
  "language_info": {
   "codemirror_mode": {
    "name": "ipython",
    "version": 3
   },
   "file_extension": ".py",
   "mimetype": "text/x-python",
   "name": "python",
   "nbconvert_exporter": "python",
   "pygments_lexer": "ipython3",
   "version": "3.8.5"
  }
 },
 "nbformat": 4,
 "nbformat_minor": 4
}
