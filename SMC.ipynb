{
 "cells": [
  {
   "cell_type": "code",
   "execution_count": 1,
   "metadata": {},
   "outputs": [],
   "source": [
    "import numpy as np\n",
    "from matplotlib import pyplot as plt\n",
    "import math\n",
    "from mpl_toolkits import mplot3d"
   ]
  },
  {
   "cell_type": "code",
   "execution_count": null,
   "metadata": {},
   "outputs": [],
   "source": []
  },
  {
   "cell_type": "code",
   "execution_count": null,
   "metadata": {},
   "outputs": [],
   "source": []
  },
  {
   "cell_type": "code",
   "execution_count": 2,
   "metadata": {},
   "outputs": [],
   "source": [
    "def R_eta(phi, theta, psi):\n",
    "    R = np.array([[math.cos(psi)*math.cos(theta), math.cos(psi)*math.sin(theta)*math.sin(phi) - math.cos(phi)*math.sin(psi), math.cos(phi)*math.cos(psi)*math.sin(theta) + math.sin(phi)*math.sin(psi)],\n",
    "        [math.cos(theta)*math.sin(psi), math.sin(psi)*math.sin(theta)*math.sin(phi) + math.cos(phi)*math.cos(psi), math.cos(phi)*math.sin(theta)*math.sin(psi) - math.cos(psi)*math.sin(phi)],\n",
    "        [- math.sin(theta), math.cos(theta)*math.sin(phi), math.cos(theta)*math.cos(phi)]])\n",
    "    return R\n",
    "\n",
    "# attitude of the quadrotor\n",
    "def eta(phi, theta, psi):\n",
    "    e = np.array([phi, theta, psi])\n",
    "    return e.transpose()\n",
    "\n",
    "def position(x,y,z):\n",
    "    p = np.array([x,y,z])\n",
    "    return p.transpose()\n",
    "\n",
    "# linear translational velocity\n",
    "def velocity(v_x, v_y, v_z):\n",
    "    v = np.array([v_x, v_y, v_z])\n",
    "    return v.transpose()\n",
    "\n",
    "#  angular velocity\n",
    "def zeta(p, q, r):\n",
    "    z = np.array([p,q,r])\n",
    "    return z.transpose()\n",
    "\n",
    "# matrix relating the rotation angles η to the angular velocity ξ\n",
    "def R_T(phi, theta):\n",
    "    t  = np.array([[1, 0, -math.sin(theta)],[0, math.cos(phi), math.cos(theta)*math.sin(phi)],[0, -math.sin(phi), math.cos(theta)*math.cos(phi)]])\n",
    "    return t"
   ]
  },
  {
   "cell_type": "code",
   "execution_count": 3,
   "metadata": {},
   "outputs": [
    {
     "data": {
      "text/plain": [
       "array([[1., 0., 0.],\n",
       "       [0., 1., 0.],\n",
       "       [0., 0., 1.]])"
      ]
     },
     "execution_count": 3,
     "metadata": {},
     "output_type": "execute_result"
    }
   ],
   "source": [
    "np.linalg.inv(R_eta(0, 0, 0))"
   ]
  },
  {
   "cell_type": "code",
   "execution_count": 4,
   "metadata": {},
   "outputs": [
    {
     "data": {
      "text/plain": [
       "array([[ 1.,  0., -0.],\n",
       "       [ 0.,  1.,  0.],\n",
       "       [ 0.,  0.,  1.]])"
      ]
     },
     "execution_count": 4,
     "metadata": {},
     "output_type": "execute_result"
    }
   ],
   "source": [
    "R_eta(0, 0, 0).transpose()"
   ]
  },
  {
   "cell_type": "code",
   "execution_count": 5,
   "metadata": {},
   "outputs": [
    {
     "data": {
      "text/plain": [
       "1.0"
      ]
     },
     "execution_count": 5,
     "metadata": {},
     "output_type": "execute_result"
    }
   ],
   "source": [
    "np.linalg.det(R_eta(0, 0, 0))"
   ]
  },
  {
   "cell_type": "code",
   "execution_count": 6,
   "metadata": {},
   "outputs": [],
   "source": [
    "def eta_dot(phi, theta, p, q, r ):\n",
    "    print(np.linalg.inv(R_T(phi, theta)), zeta(p, q, r))\n",
    "    return np.dot(np.linalg.inv(R_T(phi, theta)),zeta(p, q, r))"
   ]
  },
  {
   "cell_type": "code",
   "execution_count": 7,
   "metadata": {
    "scrolled": true
   },
   "outputs": [
    {
     "name": "stdout",
     "output_type": "stream",
     "text": [
      "[[1. 0. 0.]\n",
      " [0. 1. 0.]\n",
      " [0. 0. 1.]] [1 1 1]\n"
     ]
    },
    {
     "data": {
      "text/plain": [
       "array([1., 1., 1.])"
      ]
     },
     "execution_count": 7,
     "metadata": {},
     "output_type": "execute_result"
    }
   ],
   "source": [
    "eta_dot(0,0,1,1,1)"
   ]
  },
  {
   "cell_type": "code",
   "execution_count": 8,
   "metadata": {},
   "outputs": [],
   "source": [
    "def f_2(v_x, v_y, v_z):\n",
    "    return - np.dot(d_p,velocity(v_x, v_y, v_z))/m\n",
    "\n",
    "def S_zeta(p,q,r):\n",
    "    return np.array([[0,-r,q],[r,0,-p],[-q,p,0]])\n"
   ]
  },
  {
   "cell_type": "code",
   "execution_count": 9,
   "metadata": {},
   "outputs": [],
   "source": [
    "def p_des(t):\n",
    "    p_d = np.array([(1+t)*math.cos(0.5*t),(4+0.1*t)*math.sin(0.5*t),1+0.5*t])\n",
    "    return p_d.transpose()\n",
    "# Initial Conditions\n",
    "p_in = np.array([0,0,0])\n",
    "v_in = np.array([0,0,0])"
   ]
  },
  {
   "cell_type": "code",
   "execution_count": 10,
   "metadata": {
    "scrolled": true
   },
   "outputs": [
    {
     "name": "stdout",
     "output_type": "stream",
     "text": [
      "[[0. 0. 0. 0. 0. 0. 0. 0. 0. 0.]\n",
      " [0. 0. 0. 0. 0. 0. 0. 0. 0. 0.]\n",
      " [0. 0. 0. 0. 0. 0. 0. 0. 0. 0.]\n",
      " [0. 0. 0. 0. 0. 0. 0. 0. 0. 0.]\n",
      " [0. 0. 0. 0. 0. 0. 0. 0. 0. 0.]\n",
      " [0. 0. 0. 0. 0. 0. 0. 0. 0. 0.]]\n"
     ]
    }
   ],
   "source": [
    "n=10\n",
    "e_0 = np.zeros((6,n))\n",
    "print(e_0)"
   ]
  },
  {
   "cell_type": "code",
   "execution_count": null,
   "metadata": {},
   "outputs": [],
   "source": []
  },
  {
   "cell_type": "code",
   "execution_count": 11,
   "metadata": {},
   "outputs": [],
   "source": [
    "class des:\n",
    "  ####  Desired Trajectory\n",
    "    def __init__(self):\n",
    "        self.trajectory()\n",
    "\n",
    "    def pos_d(self,t):\n",
    "\n",
    "        p_d = np.array([(1+t)*math.cos(0.5*t),(4+0.1*t)*math.sin(0.5*t),1+0.5*t])\n",
    "        return p_d\n",
    "    \n",
    "    def vel_d(self,t):\n",
    "        \n",
    "        p_dot_d = np.array([math.cos(0.5*t) - 0.5*(1+t)*math.sin(0.5*t), 0.1*math.sin(0.5*t) + 0.5*(4+0.1*t)*math.cos(0.5*t), 0.5])\n",
    "        return p_dot_d\n",
    "\n",
    "    def acc_d(self,t):\n",
    "        \n",
    "        p_ddot_d = np.array([-0.5*math.sin(0.5*t) - 0.5*math.sin(0.5*t) - 0.25*(1+t)*math.cos(0.5*t), 0.05*math.cos(0.5*t) + 0.05*math.cos(0.5*t) - 0.25*(4+0.1*t)*math.sin(0.5*t),0])\n",
    "        return p_ddot_d\n",
    "    \n",
    "    def trajectory(self):\n",
    "        total_time = 20.0\n",
    "        dt = 0.01\n",
    "        self.dt = dt\n",
    "        iter = int(total_time/dt)\n",
    "        t_arr = np.linspace(0.0, total_time, iter)\n",
    "        \n",
    "        x_path = []\n",
    "        y_path = []\n",
    "        z_path = []\n",
    "\n",
    "        x_dot_path = []\n",
    "        y_dot_path = []\n",
    "        z_dot_path = []\n",
    "\n",
    "        x_ddot_path = []\n",
    "        y_ddot_path = []\n",
    "        z_ddot_path = []\n",
    "\n",
    "        for i in range(iter):\n",
    "            p = self.pos_d(t_arr[i])\n",
    "            p_dot = self.vel_d(t_arr[i])\n",
    "            p_ddot = self.acc_d(t_arr[i])\n",
    "            \n",
    "            x_path.append(p[0])\n",
    "            y_path.append(p[1])\n",
    "            z_path.append(p[2])\n",
    "\n",
    "            x_dot_path.append(p_dot[0])\n",
    "            y_dot_path.append(p_dot[1])\n",
    "            z_dot_path.append(p_dot[2])\n",
    "\n",
    "            x_ddot_path.append(p_ddot[0])\n",
    "            y_ddot_path.append(p_ddot[1])\n",
    "            z_ddot_path.append(p_ddot[2])\n",
    "            \n",
    "        \n",
    "        self.x_path = x_path\n",
    "        self.y_path = y_path\n",
    "        self.z_path = z_path\n",
    "\n",
    "        self.x_dot_path = x_dot_path\n",
    "        self.y_dot_path = y_dot_path\n",
    "        self.z_dot_path = z_dot_path\n",
    "\n",
    "        self.x_ddot_path = x_ddot_path\n",
    "        self.y_ddot_path = y_ddot_path\n",
    "        self.z_ddot_path = z_ddot_path\n"
   ]
  },
  {
   "cell_type": "code",
   "execution_count": 13,
   "metadata": {},
   "outputs": [],
   "source": [
    "class smc:\n",
    "    \n",
    "    def __init__(self,m,alpha_1,alpha_2,beta,d_p,dt):\n",
    "        # Gravity Vector\n",
    "        self.g = np.array([0 , 0 , -9.8]).transpose()\n",
    "        self.m = m\n",
    "        self.alpha_1 = alpha_1\n",
    "        self.alpha_2 = alpha_2\n",
    "        self.beta=beta\n",
    "        self.d_p = d_p\n",
    "        self.dt=dt\n",
    "    \n",
    "    def controller(self, p, p_dot, p_d, p_dot_d, p_ddot_d, psi_d):\n",
    "        \n",
    "        self.p = p\n",
    "        self.p_dot = p_dot\n",
    "        \n",
    "        #Desired\n",
    "        self.p_d = p_d\n",
    "        self.p_dot_d = p_dot_d\n",
    "        self.p_ddot_d = p_ddot_d\n",
    "        self.psi_d = psi_d\n",
    "        \n",
    "        total_time = 20.0\n",
    "        dt = 0.01\n",
    "        iter = int(total_time/dt)\n",
    "        p_e = np.zeros((iter,3))\n",
    "        v_e = np.zeros((iter,3))\n",
    "        s_0 = np.zeros((iter,3))\n",
    "        \n",
    "        p_e[:,0] = self.p_d - self.p\n",
    "        v_e[:,0] = self.p_dot_d - self.p_dot\n",
    "        s_0[:,0] = 0\n",
    "        \n",
    "        t_arr = np.linspace(0.0, total_time, iter)\n",
    "\n",
    "        # Numerical Integration\n",
    "        for i in range(iter):\n",
    "            p_e[:,i+1] = p_e[:,i] + v_e[:,i]*self.dt\n",
    "            v_e[:,i+1] = v_e[:,i] + self.dt*(self.p_ddot_d - self.p_dot)\n",
    "            s_0[:,i+1] = s_0[:,i] + (self.alpha_1*p_e[:,i] + self.alpha_2*v_e[:,i])*self.dt + (v_e[:,i+1] - v_e[:i])\n",
    "            \n",
    "        E = self.alpha_1*p_e[:,iter] + self.alpha_2*v_e[:,iter] + self.p_ddot_d + self.g[2] + np.dot(self.d_p,self.p_dot)/self.m\n",
    "        E_hat = E + beta[0]*np.sign(s_0[:,iter])\n",
    "            \n",
    "        phi_d = np.arcsin((E_hat[0]*np.sin(self.psi_d) - E_hat[1]*np.cos(self.psi_d))/np.linalg.norm(E_hat, 2))\n",
    "        theta_d = np.arctan((E_hat[0]*np.cos(self.psi_d) + E_hat[1]*np.sin(self.psi_d))/E_hat[2])\n",
    "        u_t = np.dot(R_eta(phi_d,theta_d,self.psi_d).transpose(), E_hat)\n",
    "            \n",
    "        self.update()\n",
    "            \n",
    "        #def update(self):\n",
    "            \n",
    "        \n",
    "        \n",
    "        \n",
    "        "
   ]
  },
  {
   "cell_type": "code",
   "execution_count": null,
   "metadata": {},
   "outputs": [],
   "source": []
  },
  {
   "cell_type": "code",
   "execution_count": 14,
   "metadata": {
    "scrolled": true
   },
   "outputs": [],
   "source": [
    "if __name__ == \"__main__\":\n",
    "    \n",
    "    # Mass of the quadrotor\n",
    "    m = 0.47\n",
    "    alpha_1 = 5\n",
    "    alpha_2 = alpha_1\n",
    "    beta = np.array([0.01,1.5,2])\n",
    "    # coefficients of the rotary inertia\n",
    "    J_p = np.diag(np.array([4.9e-3 ,4.9e-3 ,8.8e-3]))\n",
    "    # moments in the body-fixed frame\n",
    "    Tau_n = np.array([1 ,1 , 1]).transpose()\n",
    "    # Air Drag\n",
    "    d_p = np.diag(np.array([4e-7,4e-7,4e-7]))\n",
    "    # aerodynamic drag coefficients\n",
    "    d_eta = np.diag(np.array([6e-5,6e-5,6e-5]))\n",
    "    \n",
    "    Des = des()\n",
    "    x_des = Des.x_path\n",
    "    y_des = Des.y_path\n",
    "    z_des = Des.z_path\n",
    "    \n",
    "    x_dot_des = Des.x_dot_path\n",
    "    y_dot_des = Des.y_dot_path\n",
    "    z_dot_des = Des.z_dot_path\n",
    "    \n",
    "    x_ddot_des = Des.x_ddot_path\n",
    "    y_ddot_des = Des.y_ddot_path\n",
    "    z_ddot_des = Des.z_ddot_path\n",
    "    \n",
    "    dt = Des.dt\n",
    "    "
   ]
  },
  {
   "cell_type": "code",
   "execution_count": null,
   "metadata": {},
   "outputs": [],
   "source": []
  },
  {
   "cell_type": "code",
   "execution_count": 15,
   "metadata": {
    "scrolled": true
   },
   "outputs": [
    {
     "data": {
      "image/png": "[encoded data removed]",
      "text/plain": [
       "<Figure size 432x288 with 1 Axes>"
      ]
     },
     "metadata": {
      "needs_background": "light"
     },
     "output_type": "display_data"
    }
   ],
   "source": [
    "fig = plt.figure();\n",
    "ax = plt.axes(projection = '3d');\n",
    "ax.plot3D(x_des, y_des, z_des, linestyle = '-.', marker = '.', color = 'red');"
   ]
  },
  {
   "cell_type": "code",
   "execution_count": null,
   "metadata": {},
   "outputs": [],
   "source": []
  }
 ],
 "metadata": {
  "kernelspec": {
   "display_name": "Python 3",
   "language": "python",
   "name": "python3"
  },
  "language_info": {
   "codemirror_mode": {
    "name": "ipython",
    "version": 3
   },
   "file_extension": ".py",
   "mimetype": "text/x-python",
   "name": "python",
   "nbconvert_exporter": "python",
   "pygments_lexer": "ipython3",
   "version": "3.7.6"
  }
 },
 "nbformat": 4,
 "nbformat_minor": 4
}
